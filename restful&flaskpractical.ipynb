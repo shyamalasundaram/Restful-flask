{
  "cells": [
    {
      "cell_type": "markdown",
      "metadata": {
        "id": "g2Gi4WHdPrDh"
      },
      "source": [
        "RESTFUL&FLASK - PRACTICAL"
      ]
    },
    {
      "cell_type": "markdown",
      "metadata": {
        "id": "IPVK6_nkQdRN"
      },
      "source": [
        "##**1.How do you create a basic Flask application?**\n",
        "\n",
        "####**Creating a Basic Flask Application:**\n",
        "\n",
        "To create a basic Flask application, follow these steps:\n",
        "\n",
        "**Step 1: Install Flask**\n",
        "First, you need to install Flask. You can do this using pip:\n",
        "\n",
        "<PRE>\n",
        "bash\n",
        "pip install flask\n",
        "</pre>\n",
        "\n",
        "**Step 2: Create a New File**\n",
        "Create a new file for your Flask application, for example, app.py.\n",
        "\n",
        "**Step 3: Import Flask and Create an App**\n",
        "In the app.py file, import Flask and create a new app:\n",
        "\n",
        "<pre>\n",
        "from flask import Flask\n",
        "\n",
        "app = Flask(__name__)\n",
        "</pre>\n",
        "\n",
        "**Step 4: Define a Route**\n",
        "Define a route for your app. A route is a function that handles a specific URL. For example:\n",
        "\n",
        "<pre>\n",
        "@app.route('/')\n",
        "def home():\n",
        "    return 'Hello, World!'\n",
        "\n",
        "</pre>\n",
        "This route handles the root URL (/) and returns the string \"Hello, World!\".\n",
        "\n",
        "Step 5: Run the App\n",
        "Finally, run the app using the run() method:\n",
        "\n",
        "\n",
        "if __name__ == '__main__':\n",
        "    app.run(debug=True)\n",
        "\n",
        "\n",
        "The debug=True parameter enables debug mode, which provides helpful error messages and automatically reloads the app when you make changes to the code.\n",
        "\n",
        "**Full Code  \n",
        "Here's the full code for a basic Flask app:**\n",
        "\n",
        "<pre>\n",
        "from flask import Flask\n",
        "\n",
        "app = Flask(__name__)\n",
        "\n",
        "@app.route('/')\n",
        "def home():\n",
        "    return 'Hello, World!'\n",
        "\n",
        "if __name__ == '__main__':\n",
        "    app.run(debug=True)\n",
        "\n",
        "</pre>\n",
        "Running the App\n",
        "To run the app, save the app.py file and execute it using Python:\n",
        "\n",
        "<pre>\n",
        "bash\n",
        "python app.py\n",
        "</pre>\n",
        "\n",
        "Open a web browser and navigate to http://localhost:5000/ to see the \"Hello, World!\" message.\n",
        "\n",
        "That's it! You've created a basic Flask application."
      ]
    },
    {
      "cell_type": "markdown",
      "metadata": {
        "id": "wp3LJTm3V5jH"
      },
      "source": [
        "##**2. How do you serve static files like images or CSS in Flask?**\n",
        "\n",
        "####**Serving Static Files in Flask:**\n",
        "\n",
        "Flask provides a built-in way to serve static files like images, CSS, and JavaScript files. Here's how you can do it:\n",
        "\n",
        "**Static Folder:**\n",
        "By default, Flask looks for a folder named static in the root directory of your application. You can store your static files in this folder.\n",
        "\n",
        "**Serving Static Files:**\n",
        "To serve static files, you can use the url_for function in your templates. For example:\n",
        "\n",
        "<pre>\n",
        "link rel=\"stylesheet\" href=\"{{ url_for('static', filename='style.css') }}\"\n",
        "</pre>\n",
        "\n",
        "This code generates a URL for the style.css file in the static folder.\n",
        "\n",
        "`Static` File URL Prefix\n",
        "You can configure the URL prefix for static files using the static_url_path parameter when creating the Flask application instance. For example:\n",
        "\n",
        "<pre>\n",
        "app = Flask(__name__, static_url_path='/my_static')\n",
        "</pre>\n",
        "\n",
        "This code tells Flask to serve static files from the /my_static URL prefix instead of the default /static prefix.\n",
        "\n",
        "**Example:**  \n",
        "Here's an example of serving an image file from the static folder:\n",
        "\n",
        "<pre>\n",
        "from flask import Flask, render_template\n",
        "\n",
        "app = Flask(__name__)\n",
        "\n",
        "@app.route('/')\n",
        "def index():\n",
        "    return render_template('index.html')\n",
        "\n",
        "if __name__ == '__main__':\n",
        "    app.run(debug=True)\n",
        "\n",
        "\n",
        "In the index.html template:\n",
        "\n",
        "\n",
        "<img src=\"{{ url_for('static', filename='image.jpg') }}\" alt=\"An image\">\n",
        "</pre>\n",
        "In this example, Flask serves the image.jpg file from the static folder when the / route is accessed."
      ]
    },
    {
      "cell_type": "markdown",
      "metadata": {
        "id": "Ivnp37fm1oJd"
      },
      "source": [
        "####**3. How do you define different routes with different HTTP methods in Flask?**"
      ]
    },
    {
      "cell_type": "code",
      "execution_count": null,
      "metadata": {
        "colab": {
          "background_save": true,
          "base_uri": "https://localhost:8080/"
        },
        "id": "6d4ybADYWDvO",
        "outputId": "8754aa3c-9403-4a6e-e1eb-dba66cb482a0"
      },
      "outputs": [
        {
          "name": "stdout",
          "output_type": "stream",
          "text": [
            " * Serving Flask app '__main__'\n",
            " * Debug mode: on\n"
          ]
        },
        {
          "name": "stderr",
          "output_type": "stream",
          "text": [
            "INFO:werkzeug:\u001b[31m\u001b[1mWARNING: This is a development server. Do not use it in a production deployment. Use a production WSGI server instead.\u001b[0m\n",
            " * Running on http://127.0.0.1:5000\n",
            "INFO:werkzeug:\u001b[33mPress CTRL+C to quit\u001b[0m\n",
            "INFO:werkzeug: * Restarting with watchdog (inotify)\n"
          ]
        }
      ],
      "source": [
        "from flask import Flask, request\n",
        "\n",
        "app = Flask(__name__)\n",
        "\n",
        "# Route that accepts both GET and POST methods\n",
        "@app.route('/example', methods=['GET', 'POST'])\n",
        "def example_route():\n",
        "    if request.method == 'POST':\n",
        "        # Handle POST request logic here\n",
        "        return 'This was a POST request'\n",
        "    else:\n",
        "        # Handle GET request logic here\n",
        "        return 'This was a GET request'\n",
        "\n",
        "# Route that only accepts POST requests\n",
        "@app.route('/create', methods=['POST'])\n",
        "def create_resource():\n",
        "    # Handle resource creation logic here\n",
        "    return 'Resource created via POST'\n",
        "\n",
        "# Route that only accepts GET requests (default)\n",
        "@app.route('/read')\n",
        "def read_resource():\n",
        "    # Handle resource reading logic here\n",
        "    return 'Resource read via GET'\n",
        "\n",
        "if __name__ == '__main__':\n",
        "    app.run(debug=True)"
      ]
    },
    {
      "cell_type": "markdown",
      "metadata": {
        "id": "iipuPuOE3If7"
      },
      "source": [
        "**In this example:**\n",
        "\n",
        "The /example route accepts both `GET` and `POST` requests. Inside the function, you can check request.method to determine which method was used and handle the logic accordingly.\n",
        "The /create route only accepts `POST` requests. If a `GET` request is made to this route, Flask will return a Method Not Allowed error (405).\n",
        "The /read route has no methods argument specified. By default, Flask routes only accept `GET` requests.\n",
        "By using the methods argument, you can make your routes more specific and handle different types of requests based on the HTTP method."
      ]
    },
    {
      "cell_type": "markdown",
      "metadata": {
        "id": "U-imbNKL3yv6"
      },
      "source": [
        "##**4. How do you render HTML templates in Flask?**\n",
        "\n",
        "**Step 1: Set up your project structure**  \n",
        "Flask automatically looks for templates in a folder named templates inside your application's root directory.\n",
        "Your project folder structure should look like this:\n",
        "\n",
        "<pre>\n",
        "/your_project_folder\n",
        "├── app.py\n",
        "└── templates/\n",
        "    └── index.html\n",
        "</pre>\n",
        "**Step 2: Create the template file**  \n",
        "Inside the templates folder, create your HTML file, for example, index.html. In addition to standard HTML, you can use Jinja2 syntax to include dynamic data.\n",
        "`templates/index.html`"
      ]
    },
    {
      "cell_type": "code",
      "execution_count": null,
      "metadata": {
        "colab": {
          "base_uri": "https://localhost:8080/",
          "height": 106
        },
        "id": "rYR9ApGP5ci7",
        "outputId": "622de353-caf0-4813-b368-8039706983a7"
      },
      "outputs": [
        {
          "ename": "SyntaxError",
          "evalue": "invalid syntax (ipython-input-1858940570.py, line 1)",
          "output_type": "error",
          "traceback": [
            "\u001b[0;36m  File \u001b[0;32m\"/tmp/ipython-input-1858940570.py\"\u001b[0;36m, line \u001b[0;32m1\u001b[0m\n\u001b[0;31m    <!DOCTYPE html>\u001b[0m\n\u001b[0m    ^\u001b[0m\n\u001b[0;31mSyntaxError\u001b[0m\u001b[0;31m:\u001b[0m invalid syntax\n"
          ]
        }
      ],
      "source": [
        "<!DOCTYPE html>\n",
        "<html lang=\"en\">\n",
        "<head>\n",
        "    <meta charset=\"UTF-8\">\n",
        "    <title>My Flask App</title>\n",
        "</head>\n",
        "<body>\n",
        "    <h1>Hello, {{ name }}!</h1>\n",
        "    <p>This is a dynamic page rendered by Flask.</p>\n",
        "</body>\n",
        "</html>\n"
      ]
    },
    {
      "cell_type": "markdown",
      "metadata": {
        "id": "cZhQKl_d52RS"
      },
      "source": [
        "**Step 3: Use render_template() in your Flask application**  \n",
        "In your main Python file (app.py), import the render_template function. Then, within your view function, call render_template() and pass the name of the template file as an argument. You can also pass variables as keyword arguments.\n",
        "\n",
        "`app.py`"
      ]
    },
    {
      "cell_type": "code",
      "execution_count": null,
      "metadata": {
        "id": "-9PoreYf6dgj"
      },
      "outputs": [],
      "source": [
        "from flask import Flask, render_template\n",
        "\n",
        "# Create a Flask application instance\n",
        "app = Flask(__name__)\n",
        "\n",
        "# Define a view function for the root URL\n",
        "@app.route('/')\n",
        "def home():\n",
        "    user_name = \"Alice\"\n",
        "    # Pass the variable 'user_name' to the template as 'name'\n",
        "    return render_template('index.html', name=user_name)\n",
        "\n",
        "if __name__ == '__main__':\n",
        "    app.run(debug=True)\n"
      ]
    },
    {
      "cell_type": "code",
      "execution_count": null,
      "metadata": {
        "id": "zBr_sMa56lMR"
      },
      "outputs": [],
      "source": [
        "from flask import Flask, render_template\n",
        "\n",
        "app = Flask(__name__)\n",
        "\n",
        "@app.route('/')\n",
        "def home():\n",
        "    fruits = ['apple', 'banana', 'cherry']\n",
        "    return render_template('fruits.html', fruit_list=fruits)\n",
        "\n",
        "if __name__ == '__main__':\n",
        "    app.run(debug=True)\n"
      ]
    },
    {
      "cell_type": "markdown",
      "metadata": {
        "id": "l7f2l1xY6pW8"
      },
      "source": [
        "##**5. How can you generate URLs for routes in Flask using url_for?**"
      ]
    },
    {
      "cell_type": "code",
      "execution_count": null,
      "metadata": {
        "id": "vaxitdzE7GWW",
        "colab": {
          "base_uri": "https://localhost:8080/"
        },
        "outputId": "90161f5c-6976-4870-c8c4-9bbb98d983cb"
      },
      "outputs": [
        {
          "output_type": "stream",
          "name": "stdout",
          "text": [
            "/\n",
            "/user/John%20Doe\n"
          ]
        }
      ],
      "source": [
        "\n",
        "\n",
        "from flask import Flask, url_for\n",
        "\n",
        "app = Flask(__name__)\n",
        "\n",
        "@app.route('/')\n",
        "def index():\n",
        "    return 'Index Page'\n",
        "\n",
        "@app.route('/user/<username>')\n",
        "def show_user_profile(username):\n",
        "    return 'User %s' % username\n",
        "\n",
        "with app.test_request_context():\n",
        "    print(url_for('index'))\n",
        "    print(url_for('show_user_profile', username='John Doe'))"
      ]
    },
    {
      "cell_type": "markdown",
      "source": [
        "##**6. How do you handle forms in Flask?**\n",
        "**Handling Forms in Flask:**\n",
        "\n",
        "Flask provides several ways to handle forms, including using the request object to access form data and using libraries like Flask-WTF to handle form validation and CSRF protection.\n",
        "\n",
        "**Step 2: Create the HTML form template**\n",
        "Create a templates folder in your project directory and add an HTML file named login.html. The <form> tag must specify method=\"post\" and an action attribute that points to the correct URL, which can be generated using {{ url_for() }}. An example of the HTML structure for this form is available on medium.com.\n",
        "\n",
        "\n",
        "**Basic Form Handling**  \n",
        "To handle a form in Flask, you can use the request object to access the form data. For example:"
      ],
      "metadata": {
        "id": "orTYbP45QQU8"
      }
    },
    {
      "cell_type": "code",
      "source": [
        "from flask import Flask, render_template, request, redirect, url_for\n",
        "\n",
        "app = Flask(__name__)\n",
        "\n",
        "@app.route('/login', methods=['GET', 'POST'])\n",
        "def login():\n",
        "    if request.method == 'POST':\n",
        "        username = request.form['username']\n",
        "        password = request.form['password']\n",
        "        # Perform validation and data processing here\n",
        "        return f'Username: {username}, Password: {password}'\n",
        "    return render_template('login.html')\n",
        "\n",
        "if __name__ == '__main__':\n",
        "    app.run(debug=True)\n"
      ],
      "metadata": {
        "colab": {
          "base_uri": "https://localhost:8080/"
        },
        "id": "Bh7KhzPbVKd3",
        "outputId": "83f0b405-14fe-4844-b44c-ef12e992502a"
      },
      "execution_count": null,
      "outputs": [
        {
          "metadata": {
            "tags": null
          },
          "name": "stdout",
          "output_type": "stream",
          "text": [
            " * Serving Flask app '__main__'\n",
            " * Debug mode: on\n"
          ]
        },
        {
          "metadata": {
            "tags": null
          },
          "name": "stderr",
          "output_type": "stream",
          "text": [
            "INFO:werkzeug:\u001b[31m\u001b[1mWARNING: This is a development server. Do not use it in a production deployment. Use a production WSGI server instead.\u001b[0m\n",
            " * Running on http://127.0.0.1:5000\n",
            "INFO:werkzeug:\u001b[33mPress CTRL+C to quit\u001b[0m\n",
            "INFO:werkzeug: * Restarting with watchdog (inotify)\n"
          ]
        }
      ]
    },
    {
      "cell_type": "markdown",
      "source": [
        "##**7. How can you validate form data in Flask?**\n",
        "\n",
        "**Validators:**\n",
        "WTForms provides several built-in validators that you can use to validate form fields. Some common validators include:\n",
        "\n",
        "- `DataRequired():` Ensures that a field is not empty.\n",
        "- `Email()`: Ensures that a field contains a valid email address.\n",
        "- `EqualTo()`: Ensures that two fields have the same value.\n",
        "- `Length()`: Ensures that a field has a minimum or maximum length.\n",
        "- `NumberRange()`: Ensures that a field contains a number within a certain range.\n",
        "- `Regexp()`: Ensures that a field matches a regular expression pattern.\n",
        "\n"
      ],
      "metadata": {
        "id": "QBmh5FcxVwWi"
      }
    },
    {
      "cell_type": "code",
      "source": [
        "from flask import Flask, render_template\n",
        "from flask_wtf import FlaskForm\n",
        "from wtforms import StringField, SubmitField\n",
        "from wtforms.validators import DataRequired, Email\n",
        "\n",
        "app = Flask(__name__)\n",
        "app.config['SECRET_KEY'] = 'secret_key'\n",
        "\n",
        "class MyForm(FlaskForm):\n",
        "    name = StringField('Name', validators=[DataRequired()])\n",
        "    email = StringField('Email', validators=[DataRequired(), Email()])\n",
        "    submit = SubmitField('Submit')\n",
        "\n",
        "@app.route('/submit', methods=['GET', 'POST'])\n",
        "def submit():\n",
        "    form = MyForm()\n",
        "    if form.validate_on_submit():\n",
        "        name = form.name.data\n",
        "        email = form.email.data\n",
        "        # Process the form data\n",
        "        return 'Form submitted successfully'\n",
        "    return render_template('submit.html', form=form)\n"
      ],
      "metadata": {
        "id": "QNSoqIxNXKjJ"
      },
      "execution_count": null,
      "outputs": []
    },
    {
      "cell_type": "markdown",
      "source": [
        "##**8. How do you manage sessions in Flask?**\n",
        "\n",
        "####**Managing Sessions in Flask:**\n",
        "\n",
        "Flask provides a built-in session object that allows you to store data across multiple requests from the same client. Here's an overview of how you can manage sessions in Flask:\n",
        "\n",
        "**Enabling Sessions**  \n",
        "To use sessions in Flask, you need to set a secret key. The secret key is used to securely sign the session cookie.\n",
        "\n",
        "1. **Set a secret key**  \n",
        "Before you can use sessions, you must configure a secret key for your Flask app. This is used to securely sign the session cookie and is essential for preventing unauthorized tampering.\n",
        "2. **Store and retrieve data**  \n",
        "Use the session object, which behaves just like a Python dictionary, to save and get information during a request.\n",
        "3. **Clear session data**\n",
        "When a user logs out, it is important to remove their data from the session. You can remove a specific key with pop() or clear the entire session with clear().\n",
        "4. **Configure permanent sessions**\n",
        "By default, sessions last as long as the user's browser is open. You can set a session to be permanent and specify a lifetime.\n",
        "\n"
      ],
      "metadata": {
        "id": "nfkKe-Y0XrS3"
      }
    },
    {
      "cell_type": "code",
      "source": [
        "from flask import Flask, session, request\n",
        "\n",
        "app = Flask(__name__)\n",
        "app.config['SECRET_KEY'] = 'secret_key'\n",
        "\n",
        "@app.route('/login', methods=['POST'])\n",
        "def login():\n",
        "    session['username'] = request.form['username']\n",
        "    return 'Logged in successfully'\n",
        "\n",
        "@app.route('/protected')\n",
        "def protected():\n",
        "    if 'username' in session:\n",
        "        return f'Hello, {session[\"username\"]}'\n",
        "    return 'You are not logged in'\n",
        "\n",
        "@app.route('/logout')\n",
        "def logout():\n",
        "    session.pop('username', None)\n",
        "    return 'Logged out successfully'\n",
        "\n",
        "if __name__ == '__main__':\n",
        "    app.run(debug=True)\n"
      ],
      "metadata": {
        "id": "7j2tRDzBacz9"
      },
      "execution_count": null,
      "outputs": []
    },
    {
      "cell_type": "markdown",
      "source": [
        "##**9. How do you redirect to a different route in Flask?**\n",
        "\n",
        "**Redirecting to a Different Route in Flask**\n",
        "\n",
        "In Flask, you can redirect to a different route using the redirect() function from the flask module. Here's an overview of how you can redirect to a different route in Flask:\n",
        "\n",
        "**Using the redirect() Function:**  \n",
        "The redirect() function takes a URL as an argument and returns a response object that redirects the client to the specified URL. For example:\n"
      ],
      "metadata": {
        "id": "feBYT_hIbeO0"
      }
    },
    {
      "cell_type": "code",
      "source": [
        "from flask import Flask, redirect, url_for\n",
        "\n",
        "app = Flask(__name__)\n",
        "\n",
        "@app.route('/login')\n",
        "def login():\n",
        "    # Login logic here\n",
        "    return redirect(url_for('dashboard'))\n",
        "\n",
        "@app.route('/dashboard')\n",
        "def dashboard():\n",
        "    return 'Welcome to the dashboard'\n",
        "\n",
        "if __name__ == '__main__':\n",
        "    app.run(debug=True)\n"
      ],
      "metadata": {
        "id": "qRxZWHlEcOCi"
      },
      "execution_count": null,
      "outputs": []
    },
    {
      "cell_type": "markdown",
      "source": [
        "##**10. How do you handle errors in Flask (e.g., 404)?**\n",
        "\n",
        "####**Handling Errors in Flask:**\n",
        "\n",
        "Flask provides several ways to handle errors, including using error handlers and aborting requests. Here's an overview of how you can handle errors in Flask:\n",
        "\n",
        "**Error Handlers:**  \n",
        "Flask allows you to define custom error handlers for specific HTTP status codes. You can use the `@app.errorhandler()` decorator to define an error handler. For example:\n"
      ],
      "metadata": {
        "id": "g8C3uSvBcR5-"
      }
    },
    {
      "cell_type": "code",
      "source": [
        "from flask import Flask, render_template, abort\n",
        "\n",
        "app = Flask(__name__)\n",
        "\n",
        "@app.errorhandler(404)\n",
        "def page_not_found(e):\n",
        "    return render_template('404.html'), 404\n",
        "\n",
        "@app.route('/users/<int:user_id>')\n",
        "def get_user(user_id):\n",
        "    user = User.query.get(user_id)\n",
        "    if user is None:\n",
        "        abort(404)\n",
        "    return render_template('user.html', user=user)\n",
        "\n",
        "if __name__ == '__main__':\n",
        "    app.run(debug=True)\n"
      ],
      "metadata": {
        "id": "2lw2rDYUd5y9"
      },
      "execution_count": null,
      "outputs": []
    },
    {
      "cell_type": "markdown",
      "source": [
        "##**11. How do you structure a Flask app using Blueprints?**\n",
        "\n",
        "#####**`Structuring` a Flask App using Blueprints:**\n",
        "\n",
        "Flask Blueprints provide a way to organize and structure a Flask application into smaller, reusable components. Here's an overview of how you can structure a Flask app using Blueprints:\n",
        "\n",
        "###**`Creating` a Blueprint:**\n",
        "A Blueprint is a self-contained component of a Flask application that can have its own routes, templates, and static files. To create a Blueprint, you can use the Blueprint class from the flask module. For example:\n",
        "\n",
        "**Structuring the Application:**\n",
        "A typical Flask application using Blueprints might have the following structure:\n",
        "\n",
        "<pre>\n",
        "app/\n",
        "__init__.py\n",
        "routes.py\n",
        "templates/\n",
        "base.html\n",
        "users/\n",
        "__init__.py\n",
        "routes.py\n",
        "templates/\n",
        "users.html\n",
        "static/\n",
        "css/\n",
        "js/\n",
        "models.py\n",
        "forms.py\n",
        "requirements.txt\n",
        "run.py\n",
        "\n",
        "</pre>"
      ],
      "metadata": {
        "id": "-6FoecdPeO2F"
      }
    },
    {
      "cell_type": "code",
      "source": [
        "# app/__init__.py\n",
        "from flask import Flask\n",
        "from app.users.routes import users_blueprint\n",
        "\n",
        "app = Flask(__name__)\n",
        "app.register_blueprint(users_blueprint)\n",
        "\n",
        "# app/users/routes.py\n",
        "from flask import Blueprint, render_template\n",
        "\n",
        "users_blueprint = Blueprint('users', __name__, url_prefix='/users')\n",
        "\n",
        "@users_blueprint.route('/')\n",
        "def users():\n",
        "    return render_template('users.html')\n"
      ],
      "metadata": {
        "id": "Kej5RpByfwXX"
      },
      "execution_count": null,
      "outputs": []
    },
    {
      "cell_type": "markdown",
      "source": [
        "##**12. How do you define a custom Jinja filter in Flask**\n",
        "\n",
        "##**Defining a Custom Jinja Filter in Flask:**\n",
        "\n",
        "Jinja filters are used to modify or format data in templates. You can define custom Jinja filters in Flask to perform specific tasks. Here's an overview of how you can define a custom Jinja filter in Flask:\n",
        "\n",
        "**Defining a Custom Filter:**\n",
        "To define a custom Jinja filter, you can use the @app.template_filter() decorator. For example:\n",
        "\n",
        "<pre>\n",
        "from flask import Flask\n",
        "\n",
        "app = Flask(__name__)\n",
        "\n",
        "@app.template_filter('datetimeformat')\n",
        "def datetimeformat(value, format='%Y-%m-%d %H:%M:%S'):\n",
        "    return value.strftime(format)\n",
        "</pre>"
      ],
      "metadata": {
        "id": "zS3xAcvNfy4U"
      }
    },
    {
      "cell_type": "code",
      "source": [
        "from flask import Flask, render_template\n",
        "from datetime import datetime\n",
        "\n",
        "app = Flask(__name__)\n",
        "\n",
        "@app.template_filter('datetimeformat')\n",
        "def datetimeformat(value, format='%Y-%m-%d %H:%M:%S'):\n",
        "    return value.strftime(format)\n",
        "\n",
        "@app.route('/')\n",
        "def index():\n",
        "    created_at = datetime.now()\n",
        "    return render_template('index.html', created_at=created_at)\n",
        "\n",
        "if __name__ == '__main__':\n",
        "    app.run(debug=True)"
      ],
      "metadata": {
        "id": "ryp7eeBGgo8W"
      },
      "execution_count": null,
      "outputs": []
    },
    {
      "cell_type": "markdown",
      "source": [
        "##**13. How can you redirect with query parameters in Flask?**\n",
        "####**Redirecting with Query Parameters in Flask:**\n",
        "\n",
        "In Flask, you can redirect to a URL with query parameters using the redirect() function and the `url_for()` function. Here's an overview of how you can redirect with query parameters in Flask:\n",
        "\n",
        "**Using the `url_for()` Function:**  \n",
        "The `url_for()` function generates a URL for a given endpoint. You can pass query parameters to the `url_for()` function using the _external and keyword arguments. However, for query parameters, you don't need _external=True. For example:\n"
      ],
      "metadata": {
        "id": "AY_Xosm1gsxU"
      }
    },
    {
      "cell_type": "code",
      "source": [
        "from flask import Flask, redirect, url_for\n",
        "\n",
        "app = Flask(__name__)\n",
        "\n",
        "@app.route('/old-page')\n",
        "def old_page():\n",
        "    return redirect(url_for('new_page', param1='value1', param2='value2'))\n",
        "\n",
        "@app.route('/new-page')\n",
        "def new_page():\n",
        "    param1 = request.args.get('param1')\n",
        "    param2 = request.args.get('param2')\n",
        "    return f'param1: {param1}, param2: {param2}'\n",
        "\n",
        "if __name__ == '__main__':\n",
        "    app.run(debug=True)\n"
      ],
      "metadata": {
        "id": "TERNI7UThuuo"
      },
      "execution_count": null,
      "outputs": []
    },
    {
      "cell_type": "markdown",
      "source": [
        "##**14. How do you return JSON responses in Flask?**\n",
        "\n",
        "##**Returning JSON Responses in Flask:**\n",
        "\n",
        "In Flask, you can return JSON responses using the jsonify() function or the Response object. Here's an overview of how you can return JSON responses in Flask:\n",
        "\n",
        "**Using the `jsonify()` Function:**  \n",
        "The `jsonify()` function generates a JSON response with the correct MIME type. For example:\n"
      ],
      "metadata": {
        "id": "_3rema6ZiolH"
      }
    },
    {
      "cell_type": "code",
      "source": [
        "from flask import Flask, jsonify\n",
        "\n",
        "app = Flask(__name__)\n",
        "\n",
        "@app.route('/users')\n",
        "def get_users():\n",
        "    users = [{'id': 1, 'name': 'John'}, {'id': 2, 'name': 'Jane'}]\n",
        "    return jsonify(users)\n",
        "\n",
        "@app.route('/users/<int:user_id>')\n",
        "def get_user(user_id):\n",
        "    user = {'id': user_id, 'name': 'John'}\n",
        "    return jsonify(user)\n",
        "\n",
        "if __name__ == '__main__':\n",
        "    app.run(debug=True)"
      ],
      "metadata": {
        "id": "oF8YWQr-jKwx"
      },
      "execution_count": null,
      "outputs": []
    },
    {
      "cell_type": "markdown",
      "source": [
        "##**15.How do you capture URL parameters in Flask?**\n",
        "\n",
        "**Capturing URL Parameters in Flask:**\n",
        "\n",
        "In Flask, you can capture URL parameters using angle brackets (<>) in the route path. Here's an overview of how you can capture URL parameters in Flask:\n",
        "\n",
        "**Basic URL Parameters:**  \n",
        "You can capture basic URL parameters by specifying the parameter name in angle brackets (<>) in the route path. For example:\n",
        "\n",
        "**URL Parameter Types:**  \n",
        "You can specify the type of the URL parameter by adding a converter after the parameter name. For example:\n",
        "\n",
        "- `string`: (default) accepts any text without slashes\n",
        "- `int`: accepts integers\n",
        "- `float`: accepts floating point numbers\n",
        "- `path`: accepts any text, including slashes\n",
        "- `uuid`: accepts UUIDs\n",
        "- `any`: matches one of the values provided in parentheses\n",
        "\n",
        "In the below example, the `username`, `user_id`, and `post_id` parameters are captured\n",
        "from the URL and passed to the respective functions.\n",
        "\n"
      ],
      "metadata": {
        "id": "z9-lpL4SjRjs"
      }
    },
    {
      "cell_type": "code",
      "source": [
        "from flask import Flask\n",
        "\n",
        "app = Flask(__name__)\n",
        "\n",
        "@app.route('/users/<username>')\n",
        "def show_user_profile(username):\n",
        "    return f'User {username}'\n",
        "\n",
        "@app.route('/users/<int:user_id>/posts/<int:post_id>')\n",
        "def show_user_post(user_id, post_id):\n",
        "    return f'User {user_id}, Post {post_id}'\n",
        "\n",
        "if __name__ == '__main__':\n",
        "    app.run(debug=True)\n"
      ],
      "metadata": {
        "id": "KBufgwmLj-XR"
      },
      "execution_count": null,
      "outputs": []
    }
  ],
  "metadata": {
    "colab": {
      "provenance": []
    },
    "kernelspec": {
      "display_name": "Python 3",
      "name": "python3"
    },
    "language_info": {
      "name": "python"
    }
  },
  "nbformat": 4,
  "nbformat_minor": 0
}